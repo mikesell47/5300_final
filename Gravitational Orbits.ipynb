{
 "cells": [
  {
   "cell_type": "code",
   "execution_count": 1,
   "id": "e6a1b800",
   "metadata": {},
   "outputs": [],
   "source": [
    "%matplotlib inline"
   ]
  },
  {
   "cell_type": "code",
   "execution_count": 2,
   "id": "2c45ad43",
   "metadata": {},
   "outputs": [],
   "source": [
    "import numpy as np\n",
    "import matplotlib.pyplot as plt\n",
    "from scipy.integrate import solve_ivp\n",
    "from IPython.display import Image"
   ]
  },
  {
   "cell_type": "markdown",
   "id": "6d4ded46",
   "metadata": {},
   "source": [
    "# Gravitational Orbits"
   ]
  },
  {
   "cell_type": "code",
   "execution_count": 3,
   "id": "0e6a3964",
   "metadata": {},
   "outputs": [
    {
     "data": {
      "text/html": [
       "<img src=\"https://upload.wikimedia.org/wikipedia/commons/0/0e/NewtonsLawOfUniversalGravitation.svg\"/>"
      ],
      "text/plain": [
       "<IPython.core.display.Image object>"
      ]
     },
     "execution_count": 3,
     "metadata": {},
     "output_type": "execute_result"
    }
   ],
   "source": [
    "Image(url='https://upload.wikimedia.org/wikipedia/commons/0/0e/NewtonsLawOfUniversalGravitation.svg')"
   ]
  },
  {
   "cell_type": "markdown",
   "id": "45e642cb",
   "metadata": {},
   "source": [
    "To solve the differential equations for orbits, we have defined the $\\mathbf{z}$ \n",
    "and $d\\mathbf{z}/dt$ vectors as\n",
    "\n",
    "$\\begin{align}\n",
    "  \\mathbf{z} = \\left(\\begin{array}{c} x_1(t) \\\\ \\dot x_1(t) \\\\\n",
    "  y_1(t) \\\\ \\dot y_1(t) \\\\\n",
    "  x_2(t) \\\\ \\dot x_2(t) \\\\\n",
    "  y_2(t) \\\\ \\dot y_2(t))  \\end{array} \\right) \n",
    "  \\qquad\n",
    "  \\frac{d\\mathbf{z}}{dt} \n",
    "       = \\left(\\begin{array}{c} \\dot{x_1(t)} \\\\ \\ddot{x_1(t)} \\\\\n",
    "       \\dot{y_1(t)} \\\\ \\ddot{y_1(t)} \\\\\n",
    "       \\dot{x_2(t)} \\\\ \\ddot{x_2(t)} \\\\\n",
    "       \\dot{y_2(t)} \\\\ \\ddot{y_2(t)} \\\\\\end{array} \\right) \n",
    "       = \\left(\\begin{array}{c} \\dot{x_1(t)} \\\\ \n",
    "        -\\frac{G m_2}{|r|^3}(x_1-x_2)\\\\ \\dot{y_1(t)} \\\\\n",
    "       -\\frac{G m_2}{|r|^3}(y_1-y_2) \\\\ \\dot{x_2(t)} \\\\ \n",
    "        \\frac{G m_1}{|r|^3}(x_1-x_2) \\\\ \\dot{y_2(t)} \\\\ \n",
    "        \\frac{G m_1}{|r|^3}(y_1-y_2) \\end{array} \\right) \n",
    "\\end{align}$\n"
   ]
  },
  {
   "cell_type": "markdown",
   "id": "9dafab49",
   "metadata": {},
   "source": [
    "### Class and setup"
   ]
  },
  {
   "cell_type": "code",
   "execution_count": 4,
   "id": "b4a82b0e",
   "metadata": {},
   "outputs": [],
   "source": [
    "class GravitationalOrbits():\n",
    "    \"\"\"\n",
    "This class implements parameters and equations for \n",
    "masses orbiting under gravitational attraction\n",
    "\n",
    "Parameters\n",
    "    ----------\n",
    "    m1 : float\n",
    "        mass\n",
    "    m2 : float\n",
    "        mass\n",
    "    G : float\n",
    "\n",
    "\n",
    "    Methods\n",
    "    -------\n",
    "    dy_dt(t, y)\n",
    "        Returns the right side of the differential equation in vector y, \n",
    "        given time t and the corresponding value of y\n",
    "    \"\"\"\n",
    "    \n",
    "    def __init__(self, m1=1., m2=1., G = 1.):\n",
    "        self.G = G\n",
    "        self.m1 = m1\n",
    "        self.m2 = m2\n",
    "        \n",
    "        \n",
    "\n",
    "    def dz_dt(self, t, z):\n",
    "        \"\"\"\n",
    "        This function returns the right-hand side of the diffeq: \n",
    "        [dr/dt d^2r/dt^2 dphi/dt]\n",
    "        \n",
    "        Parameters\n",
    "        ----------\n",
    "        t : float\n",
    "            time \n",
    "        y : float\n",
    "            8-component vector with z[0] = x1(t), z[1] = dx1/dt, \n",
    "                                    z[2] = y1(t), z[3] = dy1/dt, \n",
    "                                    z[4] = x2(t), z[5] = dx2/dt,\n",
    "                                    z[6] = y2(t), z[7] = dy2/dt\n",
    "        \"\"\"\n",
    "        r_12 = np.sqrt( (z[0] - z[4])**2 + (z[2] - z[6])**2 )\n",
    "        return [ z[1], (self.G * self.m2 * (z[4] - z[0]) / (r_12**3)),\n",
    "                 z[3], (self.G * self.m2 * (z[6] - z[2]) / (r_12**3)),\n",
    "                 z[5],  (-self.G * self.m1 * (z[4] - z[0]) / (r_12**3)),\n",
    "                 z[7],  (-self.G * self.m1 * (z[6] - z[2]) / (r_12**3))]\n",
    "    \n",
    "    \n",
    "  \n",
    "\n",
    "\n",
    "    def solve_ode(self, t_pts, z_0,\n",
    "                  abserr=1.0e-8, relerr=1.0e-8):\n",
    "        \"\"\"\n",
    "        Solve the ODE given initial conditions.\n",
    "        Specify smaller abserr and relerr to get more precision.\n",
    "        \"\"\"\n",
    "\n",
    "        solution = solve_ivp(self.dz_dt, (t_pts[0], t_pts[-1]), \\\n",
    "                             z_0 , t_eval=t_pts,  method='RK23',\\\n",
    "                             atol=abserr, rtol=relerr)\n",
    "        x1, x1_dot, y1, y1_dot, x2, x2_dot, y2, y2_dot = solution.y\n",
    "        \n",
    "        return x1, x1_dot, y1, y1_dot, x2, x2_dot, y2, y2_dot\n",
    "    \n",
    "\n",
    "    \n"
   ]
  },
  {
   "cell_type": "code",
   "execution_count": 5,
   "id": "44db48d5",
   "metadata": {},
   "outputs": [],
   "source": [
    "def plot_y_vs_x(x, y, axis_labels=None, label=None, title=None, \n",
    "                color=None, linestyle=None, semilogy=False, loglog=False,\n",
    "                ax=None):\n",
    "    \"\"\"\n",
    "    Generic plotting function: return a figure axis with a plot of y vs. x,\n",
    "    with line color and style, title, axis labels, and line label\n",
    "    \"\"\"\n",
    "    if ax is None:        # if the axis object doesn't exist, make one\n",
    "        ax = plt.gca()\n",
    "\n",
    "    if (semilogy):\n",
    "        line, = ax.semilogy(x, y, label=label, \n",
    "                            color=color, linestyle=linestyle)\n",
    "    elif (loglog):\n",
    "        line, = ax.loglog(x, y, label=label, \n",
    "                          color=color, linestyle=linestyle)\n",
    "    else:\n",
    "        line, = ax.plot(x, y, label=label, \n",
    "                    color=color, linestyle=linestyle)\n",
    "\n",
    "    if label is not None:    # if a label if passed, show the legend\n",
    "        ax.legend()\n",
    "    if title is not None:    # set a title if one if passed\n",
    "        ax.set_title(title)\n",
    "    if axis_labels is not None:  # set x-axis and y-axis labels if passed  \n",
    "        ax.set_xlabel(axis_labels[0])\n",
    "        ax.set_ylabel(axis_labels[1])\n",
    "\n",
    "    return ax, line"
   ]
  },
  {
   "cell_type": "code",
   "execution_count": 6,
   "id": "ddd427df",
   "metadata": {},
   "outputs": [],
   "source": [
    "def start_stop_indices(t_pts, plot_start, plot_stop):\n",
    "    start_index = (np.fabs(t_pts-plot_start)).argmin()  # index in t_pts array \n",
    "    stop_index = (np.fabs(t_pts-plot_stop)).argmin()  # index in t_pts array \n",
    "    return start_index, stop_index"
   ]
  },
  {
   "cell_type": "markdown",
   "id": "51fe9044",
   "metadata": {},
   "source": [
    "### Making Orbit Plots"
   ]
  },
  {
   "cell_type": "code",
   "execution_count": 7,
   "id": "95bfbb2f",
   "metadata": {},
   "outputs": [],
   "source": [
    "#axes labels\n",
    "orbit_labels = (r'$x$', r'$y$')\n",
    "\n",
    "#plotting time\n",
    "t_start = 0.\n",
    "t_end = 10.\n",
    "delta_t = 0.01\n",
    "\n",
    "t_pts = np.arange(t_start, t_end+delta_t, delta_t) "
   ]
  },
  {
   "cell_type": "code",
   "execution_count": 8,
   "id": "59b40085",
   "metadata": {},
   "outputs": [
    {
     "data": {
      "image/png": "[encoded data removed]",
      "text/plain": [
       "<Figure size 360x360 with 1 Axes>"
      ]
     },
     "metadata": {
      "needs_background": "light"
     },
     "output_type": "display_data"
    }
   ],
   "source": [
    "#plotting time\n",
    "t_start = 0.\n",
    "t_end = 20.\n",
    "delta_t = 0.01\n",
    "\n",
    "m1 = 1.\n",
    "m2 = 5\n",
    "G = 1.\n",
    "\n",
    "#initiate orbits\n",
    "o1 = GravitationalOrbits(m1, m2, G=G)\n",
    "\n",
    "# Initial conditions\n",
    "x1_0 = 1.\n",
    "x1_dot_0 = -1.\n",
    "y1_0 = 1.\n",
    "y1_dot_0 = 1.\n",
    "\n",
    "\n",
    "x2_0 = -(m1 / m2) * x1_0\n",
    "x2_dot_0 = -(m1 / m2) * x1_dot_0\n",
    "y2_0 = -(m1 / m2) * y1_0\n",
    "y2_dot_0 = -(m1 / m2) * y1_dot_0\n",
    "\n",
    "z_0 = [x1_0, x1_dot_0, y1_0, y1_dot_0, \\\n",
    "       x2_0, x2_dot_0, y2_0, y2_dot_0]\n",
    "x1, x1_dot, y1, y1_dot, x2, x2_dot, y2, y2_dot = \\\n",
    "            o1.solve_ode(t_pts, z_0)\n",
    "\n",
    "#start the plot\n",
    "fig = plt.figure(figsize=(5,5))\n",
    "\n",
    "ax = fig.add_subplot(1,1,1)\n",
    "\n",
    "start, stop = start_stop_indices(t_pts, t_start, t_end)\n",
    "ax.plot(x1, y1, color='blue', label=r'$m_1$')\n",
    "ax.plot(x2, y2, color='red', label=r'$m_2$')\n",
    "ax.set_title('Orbit')\n",
    "ax.legend()\n",
    "ax.set_aspect(1)\n",
    "\n",
    "fig.tight_layout()\n",
    "fig.savefig('orbit.png' , bbox_inches='tight')\n",
    "\n"
   ]
  },
  {
   "cell_type": "code",
   "execution_count": 9,
   "id": "ae2ea73a",
   "metadata": {},
   "outputs": [
    {
     "data": {
      "image/png": "[encoded data removed]",
      "text/plain": [
       "<Figure size 360x360 with 1 Axes>"
      ]
     },
     "metadata": {
      "needs_background": "light"
     },
     "output_type": "display_data"
    }
   ],
   "source": [
    "#plotting time\n",
    "t_start = 0.\n",
    "t_end = 20.\n",
    "delta_t = 0.01\n",
    "\n",
    "m1 = 20.\n",
    "m2 = 2.\n",
    "G = 20.\n",
    "\n",
    "#initiate orbits\n",
    "o1 = GravitationalOrbits(m1, m2, G=G)\n",
    "\n",
    "# Initial conditions\n",
    "x1_0 = 0.2\n",
    "x1_dot_0 = 0.\n",
    "y1_0 = 0.\n",
    "y1_dot_0 = 0.75\n",
    "\n",
    "\n",
    "x2_0 = -(m1 / m2) * x1_0\n",
    "x2_dot_0 = -(m1 / m2) * x1_dot_0\n",
    "y2_0 = -(m1 / m2) * y1_0\n",
    "y2_dot_0 = -(m1 / m2) * y1_dot_0\n",
    "\n",
    "z_0 = [x1_0, x1_dot_0, y1_0, y1_dot_0, \\\n",
    "       x2_0, x2_dot_0, y2_0, y2_dot_0]\n",
    "x1, x1_dot, y1, y1_dot, x2, x2_dot, y2, y2_dot = \\\n",
    "            o1.solve_ode(t_pts, z_0)\n",
    "\n",
    "fig = plt.figure(figsize=(5,5))\n",
    "\n",
    "ax = fig.add_subplot(1,1,1)\n",
    "\n",
    "start, stop = start_stop_indices(t_pts, t_start, t_end)\n",
    "ax.plot(x1, y1, color='blue', label=r'$m_1$')\n",
    "ax.plot(x2, y2, color='red', label=r'$m_2$')\n",
    "ax.set_title('Orbit')\n",
    "ax.legend()\n",
    "ax.set_aspect(1)\n",
    "\n",
    "fig.tight_layout()\n",
    "fig.savefig('orbit2.png' , bbox_inches='tight')"
   ]
  },
  {
   "cell_type": "markdown",
   "id": "5bc4562c",
   "metadata": {},
   "source": [
    "In this second case we can see a heavier mass and a smaller orbit for mass 1. If the orbit for mass 1 where to go to its smaller limit it would be effectively a rest frame of reference. With the smaller orbit and heavier mass 1 the problem reduces to the orbits considered in class."
   ]
  }
 ],
 "metadata": {
  "kernelspec": {
   "display_name": "Python 3 (ipykernel)",
   "language": "python",
   "name": "python3"
  },
  "language_info": {
   "codemirror_mode": {
    "name": "ipython",
    "version": 3
   },
   "file_extension": ".py",
   "mimetype": "text/x-python",
   "name": "python",
   "nbconvert_exporter": "python",
   "pygments_lexer": "ipython3",
   "version": "3.9.7"
  }
 },
 "nbformat": 4,
 "nbformat_minor": 5
}
